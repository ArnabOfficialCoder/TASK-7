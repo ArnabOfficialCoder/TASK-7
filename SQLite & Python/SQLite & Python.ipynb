{
 "cells": [
  {
   "cell_type": "markdown",
   "id": "cd4830c5-93da-4a57-93ff-a24891bbde99",
   "metadata": {},
   "source": [
    "# Step 1: Install & Import Required Libraries"
   ]
  },
  {
   "cell_type": "code",
   "execution_count": 7,
   "id": "85d52103-4316-4120-ad41-e8677801015b",
   "metadata": {},
   "outputs": [],
   "source": [
    "# Install SQLite3 (comes built in with python)\n",
    "import sqlite3\n",
    "\n",
    "# Install pandas for Data Analysis\n",
    "import pandas as pd\n",
    "\n",
    "# Install Seaborn & Matplotlib for Visualization\n",
    "import matplotlib.pyplot as plt\n",
    "import seaborn as sns\n",
    "\n",
    "# This method hides any warnings in your Jupyter Notebook\n",
    "import warnings\n",
    "warnings.filterwarnings(\"ignore\")"
   ]
  },
  {
   "cell_type": "markdown",
   "id": "8fbcd812-3e49-48c0-bb1d-fbaeb13b3bf3",
   "metadata": {},
   "source": [
    "# Step 2: Create a New SQLite Database and Table"
   ]
  },
  {
   "cell_type": "code",
   "execution_count": 10,
   "id": "aca7f14e-f51e-4d09-b162-0d2b4541a940",
   "metadata": {},
   "outputs": [],
   "source": [
    "# Connect to SQLite database (creates a new file if it doesn't exist)\n",
    "conn = sqlite3.connect(\"sales_data.db\")\n",
    "\n",
    "# Create a cursor to interact with the database\n",
    "cursor = conn.cursor()\n",
    "\n",
    "# Create a sample table\n",
    "cursor. execute(\"\"\"\n",
    "CREATE TABLE IF NOT EXISTS sales (\n",
    "sale_id INTEGER PRIMARY KEY AUTOINCREMENT,\n",
    "product_name TEXT,\n",
    "quantity INTERGER,\n",
    "price REAL,\n",
    "sale_date TEXT\n",
    ")\n",
    "\"\"\")\n",
    "\n",
    "# Commit and close connection\n",
    "conn.commit()"
   ]
  },
  {
   "cell_type": "markdown",
   "id": "eb7207e6-3e3a-40b0-8dd2-e8a1055562d6",
   "metadata": {},
   "source": [
    "# Step 3: Insert Sample Data into the SQL Table"
   ]
  },
  {
   "cell_type": "code",
   "execution_count": 12,
   "id": "66b0b824-8e5a-47db-bda7-54f09cdfa9cc",
   "metadata": {},
   "outputs": [],
   "source": [
    "# Sample data to insert\n",
    "sales= [\n",
    "(\"Mango\", 280, 500.75, \"2025-08-25\"),\n",
    "(\"Orange\", 355, 120.50, \"2024-09-10\"),\n",
    "(\"Grapes\", 220, 330.40, \"2023-03-11\"),\n",
    "(\"Apple\", 400, 980.90, \"2024-11-27\"),\n",
    "(\"Banana\", 315, 700.60, \"2025-02-21\")\n",
    "]\n",
    "\n",
    "# Insert data into table\n",
    "cursor.executemany(\"INSERT INTO sales (product_name, quantity, price, sale_date) VALUES (?, ?, ?, ?)\", sales)\n",
    "    \n",
    "# Commit changes\n",
    "conn.commit()"
   ]
  },
  {
   "cell_type": "markdown",
   "id": "190be90f-e2c1-43fe-b9bd-86c4f54ce0c6",
   "metadata": {},
   "source": [
    "# Step 4: Run SQL Queries Inside Jupyter Notebook"
   ]
  },
  {
   "cell_type": "code",
   "execution_count": 13,
   "id": "da2092f0-c470-4f26-abea-471cfda7b882",
   "metadata": {},
   "outputs": [
    {
     "data": {
      "text/html": [
       "<div>\n",
       "<style scoped>\n",
       "    .dataframe tbody tr th:only-of-type {\n",
       "        vertical-align: middle;\n",
       "    }\n",
       "\n",
       "    .dataframe tbody tr th {\n",
       "        vertical-align: top;\n",
       "    }\n",
       "\n",
       "    .dataframe thead th {\n",
       "        text-align: right;\n",
       "    }\n",
       "</style>\n",
       "<table border=\"1\" class=\"dataframe\">\n",
       "  <thead>\n",
       "    <tr style=\"text-align: right;\">\n",
       "      <th></th>\n",
       "      <th>sale_id</th>\n",
       "      <th>product_name</th>\n",
       "      <th>quantity</th>\n",
       "      <th>price</th>\n",
       "      <th>sale_date</th>\n",
       "    </tr>\n",
       "  </thead>\n",
       "  <tbody>\n",
       "    <tr>\n",
       "      <th>0</th>\n",
       "      <td>1</td>\n",
       "      <td>Mango</td>\n",
       "      <td>280</td>\n",
       "      <td>500.75</td>\n",
       "      <td>2025-08-25</td>\n",
       "    </tr>\n",
       "    <tr>\n",
       "      <th>1</th>\n",
       "      <td>2</td>\n",
       "      <td>Orange</td>\n",
       "      <td>355</td>\n",
       "      <td>120.50</td>\n",
       "      <td>2024-09-10</td>\n",
       "    </tr>\n",
       "    <tr>\n",
       "      <th>2</th>\n",
       "      <td>3</td>\n",
       "      <td>Grapes</td>\n",
       "      <td>220</td>\n",
       "      <td>330.40</td>\n",
       "      <td>2023-03-11</td>\n",
       "    </tr>\n",
       "    <tr>\n",
       "      <th>3</th>\n",
       "      <td>4</td>\n",
       "      <td>Apple</td>\n",
       "      <td>400</td>\n",
       "      <td>980.90</td>\n",
       "      <td>2024-11-27</td>\n",
       "    </tr>\n",
       "    <tr>\n",
       "      <th>4</th>\n",
       "      <td>5</td>\n",
       "      <td>Banana</td>\n",
       "      <td>315</td>\n",
       "      <td>700.60</td>\n",
       "      <td>2025-02-21</td>\n",
       "    </tr>\n",
       "  </tbody>\n",
       "</table>\n",
       "</div>"
      ],
      "text/plain": [
       "   sale_id product_name  quantity   price   sale_date\n",
       "0        1        Mango       280  500.75  2025-08-25\n",
       "1        2       Orange       355  120.50  2024-09-10\n",
       "2        3       Grapes       220  330.40  2023-03-11\n",
       "3        4        Apple       400  980.90  2024-11-27\n",
       "4        5       Banana       315  700.60  2025-02-21"
      ]
     },
     "execution_count": 13,
     "metadata": {},
     "output_type": "execute_result"
    }
   ],
   "source": [
    "# Run a SQL query to retrieve all customer data\n",
    "query = \"SELECT * FROM sales\"\n",
    "df = pd.read_sql(query, conn) # Store query results in a Pandas DataFrame\n",
    "\n",
    "# Display the data\n",
    "df.head()"
   ]
  },
  {
   "cell_type": "markdown",
   "id": "ae57ce5f-f991-4080-947f-fe117eacb5cb",
   "metadata": {},
   "source": [
    "# Step 5: Import Pandas and write the query"
   ]
  },
  {
   "cell_type": "code",
   "execution_count": 15,
   "id": "e8e8935a-cfe2-4741-b61d-e68834d424f4",
   "metadata": {},
   "outputs": [],
   "source": [
    "import pandas as pd\n",
    "\n",
    "query = \"\"\"\n",
    "SELECT \n",
    "    product_name, \n",
    "    SUM(quantity) AS total_qty, \n",
    "    SUM(quantity * price) AS revenue\n",
    "FROM sales\n",
    "GROUP BY product_name\n",
    "\"\"\"\n"
   ]
  },
  {
   "cell_type": "markdown",
   "id": "34609f3c-764e-4bbc-a00c-38af92259b4a",
   "metadata": {},
   "source": [
    "# Step 6: Load query results into a DataFrame"
   ]
  },
  {
   "cell_type": "code",
   "execution_count": 16,
   "id": "674b60af-50f8-4b47-82e0-756e22ac2b6f",
   "metadata": {},
   "outputs": [],
   "source": [
    "df = pd.read_sql_query(query, conn)"
   ]
  },
  {
   "cell_type": "markdown",
   "id": "12e7d34f-ffde-489c-9df9-186092ab4064",
   "metadata": {},
   "source": [
    "# Step 7: Print results"
   ]
  },
  {
   "cell_type": "code",
   "execution_count": 17,
   "id": "0e60df6a-e3cc-4699-9e3a-e10a162f290a",
   "metadata": {},
   "outputs": [
    {
     "name": "stdout",
     "output_type": "stream",
     "text": [
      "  product_name  total_qty   revenue\n",
      "0        Apple        400  392360.0\n",
      "1       Banana        315  220689.0\n",
      "2       Grapes        220   72688.0\n",
      "3        Mango        280  140210.0\n",
      "4       Orange        355   42777.5\n"
     ]
    }
   ],
   "source": [
    "print(df)"
   ]
  },
  {
   "cell_type": "markdown",
   "id": "5d2c68d3-8e21-4b5f-a5e6-2cb9e64f151a",
   "metadata": {},
   "source": [
    "# Step 8: Plot the bar chart & Save chart"
   ]
  },
  {
   "cell_type": "code",
   "execution_count": 20,
   "id": "d144fd0d-b6a9-4f53-8f6b-45c5fd955293",
   "metadata": {},
   "outputs": [
    {
     "data": {
      "image/png": "[encoded data removed]",
      "text/plain": [
       "<Figure size 640x480 with 1 Axes>"
      ]
     },
     "metadata": {},
     "output_type": "display_data"
    }
   ],
   "source": [
    "df.plot(kind='bar', x='product_name', y='revenue', legend=False)\n",
    "plt.title(\"Revenue by Product\")\n",
    "plt.xlabel(\"Product\")\n",
    "plt.ylabel(\"Revenue\")\n",
    "plt.tight_layout()\n",
    "\n",
    "# Save first\n",
    "plt.savefig(\"sales_chart.png\")\n",
    "\n",
    "# Then show\n",
    "plt.show()"
   ]
  },
  {
   "cell_type": "markdown",
   "id": "99c232e1-2753-4007-9e75-e3c52bf381f8",
   "metadata": {},
   "source": [
    "# Step 9: Close the SQL Connection"
   ]
  },
  {
   "cell_type": "code",
   "execution_count": 21,
   "id": "c470d86a-ee2f-4c45-bcfc-f5f5ad3b8b43",
   "metadata": {},
   "outputs": [],
   "source": [
    "conn.close()"
   ]
  }
 ],
 "metadata": {
  "kernelspec": {
   "display_name": "Python [conda env:base] *",
   "language": "python",
   "name": "conda-base-py"
  },
  "language_info": {
   "codemirror_mode": {
    "name": "ipython",
    "version": 3
   },
   "file_extension": ".py",
   "mimetype": "text/x-python",
   "name": "python",
   "nbconvert_exporter": "python",
   "pygments_lexer": "ipython3",
   "version": "3.13.5"
  }
 },
 "nbformat": 4,
 "nbformat_minor": 5
}
